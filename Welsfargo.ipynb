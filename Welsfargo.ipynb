{
 "cells": [
  {
   "cell_type": "markdown",
   "metadata": {},
   "source": [
    "# Load the libraries"
   ]
  },
  {
   "cell_type": "code",
   "execution_count": 213,
   "metadata": {},
   "outputs": [
    {
     "name": "stdout",
     "output_type": "stream",
     "text": [
      "[nltk_data] Downloading package stopwords to /Users/Azi/nltk_data...\n",
      "[nltk_data]   Package stopwords is already up-to-date!\n"
     ]
    }
   ],
   "source": [
    "from sklearn.metrics import classification_report, confusion_matrix, accuracy_score\n",
    "import os\n",
    "import nltk\n",
    "import string\n",
    "import numpy as np\n",
    "import pandas as pd\n",
    "from nltk.corpus import stopwords\n",
    "import warnings\n",
    "warnings.filterwarnings('ignore')\n",
    "from nltk.stem import WordNetLemmatizer\n",
    "import re\n",
    "import string\n",
    "from nltk.stem import SnowballStemmer\n",
    "from string import punctuation\n",
    "from sklearn.metrics import confusion_matrix\n",
    "import seaborn as sns\n",
    "from imblearn.over_sampling import SMOTE\n",
    "import gensim \n",
    "from sklearn.model_selection import train_test_split\n",
    "from sklearn.feature_extraction.text import CountVectorizer\n",
    "from collections import Counter\n",
    "from sklearn.naive_bayes import MultinomialNB\n",
    "from sklearn.pipeline import Pipeline\n",
    "from sklearn.feature_extraction.text import TfidfTransformer\n",
    "from sklearn.linear_model import LogisticRegression\n",
    "import logging\n",
    "from numpy import loadtxt\n",
    "from sklearn.ensemble import RandomForestClassifier\n",
    "from time import strptime\n",
    "import matplotlib.pyplot as plt\n",
    "%matplotlib inline\n",
    "from bokeh.models import ColumnDataSource, LabelSet\n",
    "from bokeh.io import push_notebook, output_notebook\n",
    "nltk.download('stopwords')\n",
    "from sklearn.model_selection import RandomizedSearchCV\n",
    "from sklearn.model_selection import GridSearchCV\n",
    "%matplotlib inline\n",
    "import gzip\n",
    "import matplotlib.pyplot as plt\n",
    "import nltk\n",
    "import pickle\n",
    "from bokeh.plotting import figure, show\n",
    "from bokeh.io import push_notebook, output_notebook\n",
    "from bokeh.models import ColumnDataSource, LabelSet\n",
    "from sklearn.manifold import TSNE\n",
    "from bokeh.plotting import figure, show\n",
    "from bokeh.io import push_notebook, output_notebook\n",
    "from bokeh.models import ColumnDataSource, LabelSet\n",
    "from sklearn.linear_model import SGDClassifier\n",
    "from sklearn.linear_model import LogisticRegression\n",
    "from xgboost import XGBClassifier\n",
    "from keras.utils import to_categorical\n",
    "import keras\n",
    "from keras.preprocessing.text import Tokenizer\n",
    "from keras.preprocessing.sequence import pad_sequences\n",
    "from keras.utils import to_categorical\n",
    "from keras.models import Model\n",
    "from keras.layers import Dense, Embedding, Input\n",
    "from keras.layers import LSTM, Bidirectional, GlobalMaxPool1D, Dropout\n",
    "from keras.preprocessing.text import Tokenizer\n",
    "from keras.preprocessing.sequence import pad_sequences\n",
    "from keras.models import Sequential\n",
    "from keras.layers import Dense, Flatten, LSTM, Conv1D, MaxPooling1D, Dropout, Activation\n",
    "from keras.layers.embeddings import Embedding\n",
    "from keras.layers.core import Reshape, Flatten\n",
    "from keras.optimizers import Adam\n",
    "from sklearn.metrics import roc_auc_score"
   ]
  },
  {
   "cell_type": "markdown",
   "metadata": {},
   "source": [
    "# Read the Data"
   ]
  },
  {
   "cell_type": "code",
   "execution_count": 2,
   "metadata": {},
   "outputs": [],
   "source": [
    "df=pd.read_csv('case_study_data.csv',error_bad_lines=False, encoding=\"ISO-8859-1\")"
   ]
  },
  {
   "cell_type": "code",
   "execution_count": 27,
   "metadata": {},
   "outputs": [
    {
     "data": {
      "text/plain": [
       "(268380, 4)"
      ]
     },
     "execution_count": 27,
     "metadata": {},
     "output_type": "execute_result"
    }
   ],
   "source": [
    "df.shape"
   ]
  },
  {
   "cell_type": "code",
   "execution_count": 3,
   "metadata": {},
   "outputs": [
    {
     "data": {
      "text/html": [
       "<div>\n",
       "<style scoped>\n",
       "    .dataframe tbody tr th:only-of-type {\n",
       "        vertical-align: middle;\n",
       "    }\n",
       "\n",
       "    .dataframe tbody tr th {\n",
       "        vertical-align: top;\n",
       "    }\n",
       "\n",
       "    .dataframe thead th {\n",
       "        text-align: right;\n",
       "    }\n",
       "</style>\n",
       "<table border=\"1\" class=\"dataframe\">\n",
       "  <thead>\n",
       "    <tr style=\"text-align: right;\">\n",
       "      <th></th>\n",
       "      <th>complaint_id</th>\n",
       "      <th>product_group</th>\n",
       "      <th>text</th>\n",
       "    </tr>\n",
       "  </thead>\n",
       "  <tbody>\n",
       "    <tr>\n",
       "      <th>0</th>\n",
       "      <td>2815595</td>\n",
       "      <td>bank_service</td>\n",
       "      <td>On XX/XX/2017 my check # XXXX was debited from...</td>\n",
       "    </tr>\n",
       "    <tr>\n",
       "      <th>1</th>\n",
       "      <td>2217937</td>\n",
       "      <td>bank_service</td>\n",
       "      <td>I opened a Bank of the the West account. The a...</td>\n",
       "    </tr>\n",
       "    <tr>\n",
       "      <th>2</th>\n",
       "      <td>2657456</td>\n",
       "      <td>bank_service</td>\n",
       "      <td>wells fargo in nj opened a business account wi...</td>\n",
       "    </tr>\n",
       "    <tr>\n",
       "      <th>3</th>\n",
       "      <td>1414106</td>\n",
       "      <td>bank_service</td>\n",
       "      <td>A hold was placed on my saving account ( XXXX ...</td>\n",
       "    </tr>\n",
       "    <tr>\n",
       "      <th>4</th>\n",
       "      <td>1999158</td>\n",
       "      <td>bank_service</td>\n",
       "      <td>Dear CFPB : I need to send a major concern/com...</td>\n",
       "    </tr>\n",
       "  </tbody>\n",
       "</table>\n",
       "</div>"
      ],
      "text/plain": [
       "   complaint_id product_group  \\\n",
       "0       2815595  bank_service   \n",
       "1       2217937  bank_service   \n",
       "2       2657456  bank_service   \n",
       "3       1414106  bank_service   \n",
       "4       1999158  bank_service   \n",
       "\n",
       "                                                text  \n",
       "0  On XX/XX/2017 my check # XXXX was debited from...  \n",
       "1  I opened a Bank of the the West account. The a...  \n",
       "2  wells fargo in nj opened a business account wi...  \n",
       "3  A hold was placed on my saving account ( XXXX ...  \n",
       "4  Dear CFPB : I need to send a major concern/com...  "
      ]
     },
     "execution_count": 3,
     "metadata": {},
     "output_type": "execute_result"
    }
   ],
   "source": [
    "df.head()"
   ]
  },
  {
   "cell_type": "markdown",
   "metadata": {},
   "source": [
    "# TASK.1: EXPLORATORY ANALYSIS"
   ]
  },
  {
   "cell_type": "code",
   "execution_count": 4,
   "metadata": {},
   "outputs": [
    {
     "data": {
      "image/png": "[encoded data removed]",
      "text/plain": [
       "<Figure size 1080x720 with 1 Axes>"
      ]
     },
     "metadata": {},
     "output_type": "display_data"
    }
   ],
   "source": [
    "plt.figure(figsize=(15,10))\n",
    "ax = sns.countplot(x=\"product_group\", data=df)"
   ]
  },
  {
   "cell_type": "markdown",
   "metadata": {},
   "source": [
    "# # Text preprocessing "
   ]
  },
  {
   "cell_type": "code",
   "execution_count": 5,
   "metadata": {},
   "outputs": [],
   "source": [
    "def clean_text(text):\n",
    "    \n",
    "    ## Remove puncuation\n",
    "    text = text.translate(string.punctuation)\n",
    "    \n",
    "    ## Convert words to lower case and split them\n",
    "    text = text.lower().split()\n",
    "    \n",
    "    ## Remove stop words\n",
    "    stops = set(stopwords.words(\"english\"))\n",
    "    #text = [w for w in text if not w in stops and len(w) > 2]    \n",
    "    text = \" \".join(text)\n",
    "    ## Clean the text\n",
    "    text = re.sub(r\"[^A-Za-z0-9^,!.\\/'+-=]\", \" \", text)\n",
    "    text = re.sub(r\"-\", \"\", text)\n",
    "    text = re.sub(r\"xx\", \"\", text)\n",
    "    text = re.sub(r\"an\", \"\", text)\n",
    "    text = re.sub(r\"/\", \"\", text)\n",
    "    \n",
    "\n",
    "    ## Stemming\n",
    "    text = text.split()\n",
    "    lemmatizer = WordNetLemmatizer()\n",
    "    lem_words = [lemmatizer.lemmatize(word) for word in text]\n",
    "    text = \" \".join(lem_words)\n",
    "\n",
    "\n",
    "    return text"
   ]
  },
  {
   "cell_type": "markdown",
   "metadata": {},
   "source": [
    "### Count unique words for text courpes"
   ]
  },
  {
   "cell_type": "code",
   "execution_count": 255,
   "metadata": {},
   "outputs": [],
   "source": [
    "list_word=list (list(df['text']))\n",
    "count_word = Counter()\n",
    "for xs in list_word:\n",
    "\n",
    "    spl = xs.split(' ')\n",
    "    for x in set(spl):\n",
    "         count_word[x] += 1\n",
    "    \n"
   ]
  },
  {
   "cell_type": "code",
   "execution_count": 254,
   "metadata": {},
   "outputs": [
    {
     "data": {
      "text/plain": [
       "318511"
      ]
     },
     "execution_count": 254,
     "metadata": {},
     "output_type": "execute_result"
    }
   ],
   "source": [
    "len (count_word)"
   ]
  },
  {
   "cell_type": "code",
   "execution_count": 243,
   "metadata": {},
   "outputs": [],
   "source": [
    "\n",
    "def data_preprocessing(df):\n",
    " \n",
    "    df['clean_text'] = df['text'].str.lower()\n",
    "    df['clean_text'] = df['clean_text'].str.strip()\n",
    "    df = df[df['clean_text'] != '??']\n",
    "    df = df[df['clean_text'] != '']    \n",
    "    df['clean_text'] = df['clean_text'].apply(clean_text)\n",
    "    print (\"Number of overall words befor cleaning\",df['text'].apply(lambda x: len(x.split(' '))).sum())\n",
    "    \n",
    "\n",
    "    print (\"Number of overall words after cleaning\",df['clean_text'].apply(lambda x: len(x.split(' '))).sum())\n",
    "    print(df.head())\n",
    "    \n",
    "    return df"
   ]
  },
  {
   "cell_type": "markdown",
   "metadata": {},
   "source": [
    "## Split Data as train and test data set"
   ]
  },
  {
   "cell_type": "code",
   "execution_count": 244,
   "metadata": {},
   "outputs": [],
   "source": [
    "Comments = data.clean_text\n",
    "X = data.clean_text\n",
    "y = data.product_group\n",
    "my_tags = ['bank_service', 'credit_card', 'credit_reporting','debt_collection', 'loan', 'money_transfers', 'mortgage']\n",
    "X_train_Comments,X_test_Comments, X_train_classic, X_test_classic, y_train_classic, y_test_classic = train_test_split(Comments,X, y, test_size=0.3, random_state = 42)"
   ]
  },
  {
   "cell_type": "markdown",
   "metadata": {},
   "source": [
    "## CREATING MODELS- START WITH BASELINE AND SEE WHAT WE GET WITH NO MODIFICATIONS¶"
   ]
  },
  {
   "cell_type": "code",
   "execution_count": 241,
   "metadata": {},
   "outputs": [],
   "source": [
    "def train_evalute_model(X_train_Comments,X_test_Comments, X_train_classic, X_test_classic, y_train_classic, y_test_classic ):\n",
    "    nb = Pipeline([('vect', CountVectorizer()),\n",
    "               ('tfidf', TfidfTransformer()),\n",
    "               ('clf', MultinomialNB()),\n",
    "              ])\n",
    "    nb.fit(X_train_classic, y_train_classic)\n",
    "    y_pred_NB = nb.predict(X_test_classic)\n",
    "    \n",
    "    print('naive bayes' )\n",
    "    print('accuracy %s' % accuracy_score( y_test_classic, y_pred_NB))\n",
    "    print(classification_report(y_test_classic, y_pred_NB,target_names=my_tags))\n",
    "\n",
    "    print (confusion_matrix( y_test_classic, y_pred_NB, ['bank_service', 'credit_card', 'credit_reporting',\n",
    "       'debt_collection', 'loan', 'money_transfers', 'mortgage']))\n",
    "    print ('###################################################')\n",
    "\n",
    "    sgd = Pipeline([('vect', CountVectorizer()),\n",
    "                ('tfidf', TfidfTransformer()),\n",
    "                ('clf', SGDClassifier(loss='hinge', penalty='l2',alpha=1e-3, random_state=42, max_iter=5, tol=None)),\n",
    "               ])\n",
    "    sgd.fit(X_train_classic, y_train_classic)\n",
    "    y_pred_svm = sgd.predict(X_test_classic)\n",
    "    \n",
    "    print ('linear Support Vector Machine')\n",
    "\n",
    "    print('accuracy %s' % accuracy_score(y_pred_svm, y_test_classic))\n",
    "    print(classification_report(y_test_classic, y_pred_svm,target_names=my_tags))\n",
    "\n",
    "    print (confusion_matrix( y_test_classic, y_pred_svm, ['bank_service', 'credit_card', 'credit_reporting',\n",
    "       'debt_collection', 'loan', 'money_transfers', 'mortgage']))\n",
    "    print ('###################################################')\n",
    "\n",
    "\n",
    "    \n",
    "    logreg = Pipeline([('vect', CountVectorizer()),\n",
    "                ('tfidf', TfidfTransformer()),\n",
    "                ('clf', LogisticRegression(n_jobs=1, C=1e5)),\n",
    "               ])\n",
    "    logreg.fit(X_train_classic, y_train_classic)\n",
    "\n",
    "    y_pred_LR = logreg.predict(X_test_classic)\n",
    "    print ('logestic Regression')\n",
    "\n",
    "    print('accuracy %s' % accuracy_score( y_test_classic,y_pred_LR))\n",
    "    print(classification_report(y_test_classic, y_pred_LR,target_names=my_tags))\n",
    "\n",
    "    print (confusion_matrix( y_test_classic, y_pred_LR, ['bank_service', 'credit_card', 'credit_reporting',\n",
    "       'debt_collection', 'loan', 'money_transfers', 'mortgage']))\n",
    "    \n",
    "    print ('###################################################')\n",
    "    \n",
    "    \n",
    "    rfc = Pipeline([('vect', CountVectorizer()),\n",
    "                ('tfidf', TfidfTransformer()),\n",
    "                ('clf', RandomForestClassifier()),\n",
    "               ])\n",
    "\n",
    "    vectorizer = CountVectorizer(min_df=1)\n",
    "    #rfc = RandomForestClassifier()\n",
    "    rfc.fit(X_train_classic, y_train_classic)\n",
    "    y_pred_rfc=rfc.predict((X_test_classic))\n",
    "    print ('random forest')\n",
    "    \n",
    "    print('accuracy %s' % accuracy_score(y_test_classic, y_pred_rfc))\n",
    "    print(classification_report(y_test_classic, y_pred_rfc,target_names=my_tags))\n",
    "    print (confusion_matrix( y_test_classic, y_pred_LR, labels=['bank_service', 'credit_card', 'credit_reporting',\n",
    "       'debt_collection', 'loan', 'money_transfers', 'mortgage']))\n",
    "    print ('###################################################')\n",
    "    \n",
    "    \n",
    "    xgboost = Pipeline([('vect', CountVectorizer()),\n",
    "                ('tfidf', TfidfTransformer()),\n",
    "                ('clf', XGBClassifier()),\n",
    "               ])\n",
    "\n",
    "    xgboost.fit(X_train_classic, y_train_classic)\n",
    "    y_pred_xgboost=xgboost.predict((X_test_classic))\n",
    "    print ('XGboost')\n",
    "    print('accuracy %s' % accuracy_score(y_test_classic, y_pred_xgboost))\n",
    "    \n",
    "    print(classification_report(y_test_classic, y_pred_xgboost,target_names=my_tags))\n",
    "    \n",
    "    print (confusion_matrix( y_test_classic, y_pred_xgboost, labels=['bank_service', 'credit_card', 'credit_reporting',\n",
    "       'debt_collection', 'loan', 'money_transfers', 'mortgage']))\n",
    "    \n",
    "    \n",
    "    return nb, sgd, logreg, rfc, xgboost\n",
    "    "
   ]
  },
  {
   "cell_type": "code",
   "execution_count": 245,
   "metadata": {},
   "outputs": [
    {
     "name": "stdout",
     "output_type": "stream",
     "text": [
      "Number of overall words befor cleaning 53407996\n",
      "Number of overall words after cleaning 49847680\n",
      "   complaint_id product_group  \\\n",
      "0       2815595  bank_service   \n",
      "1       2217937  bank_service   \n",
      "2       2657456  bank_service   \n",
      "3       1414106  bank_service   \n",
      "4       1999158  bank_service   \n",
      "\n",
      "                                                text  \\\n",
      "0  On XX/XX/2017 my check # XXXX was debited from...   \n",
      "1  I opened a Bank of the the West account. The a...   \n",
      "2  wells fargo in nj opened a business account wi...   \n",
      "3  A hold was placed on my saving account ( XXXX ...   \n",
      "4  Dear CFPB : I need to send a major concern/com...   \n",
      "\n",
      "                                          clean_text  \n",
      "0  on 2017 my check wa debited from my checking a...  \n",
      "1  i opened a bk of the the west account. the acc...  \n",
      "2  well fargo in nj opened a business account wit...  \n",
      "3  a hold wa placed on my saving account because ...  \n",
      "4  dear cfpb : i need to send a major concerncomp...  \n"
     ]
    }
   ],
   "source": [
    "\n",
    "data=data_preprocessing(df)\n"
   ]
  },
  {
   "cell_type": "code",
   "execution_count": 221,
   "metadata": {},
   "outputs": [
    {
     "name": "stdout",
     "output_type": "stream",
     "text": [
      "naive bayes\n",
      "accuracy 0.7476960528603721\n",
      "                  precision    recall  f1-score   support\n",
      "\n",
      "    bank_service       0.86      0.38      0.53      5898\n",
      "     credit_card       0.74      0.54      0.63      8889\n",
      "credit_reporting       0.68      0.92      0.78     24276\n",
      " debt_collection       0.74      0.78      0.76     18398\n",
      "            loan       0.89      0.57      0.70      9391\n",
      " money_transfers       0.95      0.01      0.03      1478\n",
      "        mortgage       0.83      0.91      0.87     12184\n",
      "\n",
      "     avg / total       0.77      0.75      0.73     80514\n",
      "\n",
      "[[ 2253   987  1270   645    48     1   694]\n",
      " [   57  4804  2758   951   110     0   209]\n",
      " [    7   108 22331  1296   234     0   300]\n",
      " [    4   104  3352 14365   243     0   330]\n",
      " [   11   112  1839  1537  5361     0   531]\n",
      " [  285   339   365   305    14    20   150]\n",
      " [   12    16   756   311    23     0 11066]]\n",
      "###################################################\n",
      "linear Support Vector Machine\n",
      "accuracy 0.8059467918622848\n",
      "                  precision    recall  f1-score   support\n",
      "\n",
      "    bank_service       0.79      0.72      0.75      5898\n",
      "     credit_card       0.79      0.72      0.76      8889\n",
      "credit_reporting       0.79      0.86      0.83     24276\n",
      " debt_collection       0.78      0.82      0.80     18398\n",
      "            loan       0.85      0.67      0.75      9391\n",
      " money_transfers       0.94      0.41      0.57      1478\n",
      "        mortgage       0.85      0.93      0.89     12184\n",
      "\n",
      "     avg / total       0.81      0.81      0.80     80514\n",
      "\n",
      "[[ 4261   594   411   249    67    29   287]\n",
      " [  356  6415  1241   634    77     5   161]\n",
      " [   92   457 20832  1860   485     2   548]\n",
      " [   75   282  2145 15136   368     0   392]\n",
      " [  160   170  1093  1220  6258     2   488]\n",
      " [  397   124   112   158    26   600    61]\n",
      " [   67    35   389   224    81     0 11388]]\n",
      "###################################################\n",
      "logestic Regression\n",
      "accuracy 0.7855528231115085\n",
      "                  precision    recall  f1-score   support\n",
      "\n",
      "    bank_service       0.71      0.68      0.70      5898\n",
      "     credit_card       0.74      0.71      0.72      8889\n",
      "credit_reporting       0.82      0.85      0.84     24276\n",
      " debt_collection       0.77      0.79      0.78     18398\n",
      "            loan       0.73      0.71      0.72      9391\n",
      " money_transfers       0.73      0.67      0.70      1478\n",
      "        mortgage       0.84      0.84      0.84     12184\n",
      "\n",
      "     avg / total       0.78      0.79      0.78     80514\n",
      "\n",
      "[[ 4037   599   274   267   233   198   290]\n",
      " [  650  6273   796   595   289    71   215]\n",
      " [  193   630 20584  1743   667    22   437]\n",
      " [  186   479  1827 14466   903    22   515]\n",
      " [  183   219   851  1072  6623    21   422]\n",
      " [  213   111    39    54    37   984    40]\n",
      " [  233   150   628   561   308    23 10281]]\n",
      "###################################################\n",
      "random forest\n",
      "accuracy 0.7149564050972501\n",
      "                  precision    recall  f1-score   support\n",
      "\n",
      "    bank_service       0.58      0.61      0.60      5898\n",
      "     credit_card       0.61      0.54      0.57      8889\n",
      "credit_reporting       0.73      0.89      0.80     24276\n",
      " debt_collection       0.72      0.73      0.72     18398\n",
      "            loan       0.71      0.50      0.59      9391\n",
      " money_transfers       0.82      0.18      0.30      1478\n",
      "        mortgage       0.80      0.75      0.78     12184\n",
      "\n",
      "     avg / total       0.72      0.71      0.71     80514\n",
      "\n",
      "[[ 4037   599   274   267   233   198   290]\n",
      " [  650  6273   796   595   289    71   215]\n",
      " [  193   630 20584  1743   667    22   437]\n",
      " [  186   479  1827 14466   903    22   515]\n",
      " [  183   219   851  1072  6623    21   422]\n",
      " [  213   111    39    54    37   984    40]\n",
      " [  233   150   628   561   308    23 10281]]\n",
      "###################################################\n",
      "XGboost\n",
      "accuracy 0.7979854435253496\n",
      "                  precision    recall  f1-score   support\n",
      "\n",
      "    bank_service       0.77      0.75      0.76      5898\n",
      "     credit_card       0.78      0.74      0.76      8889\n",
      "credit_reporting       0.80      0.82      0.81     24276\n",
      " debt_collection       0.77      0.80      0.79     18398\n",
      "            loan       0.76      0.74      0.75      9391\n",
      " money_transfers       0.85      0.60      0.71      1478\n",
      "        mortgage       0.90      0.88      0.89     12184\n",
      "\n",
      "     avg / total       0.80      0.80      0.80     80514\n",
      "\n",
      "[[ 4400   540   329   245   119   115   150]\n",
      " [  408  6555  1108   626   112    35    45]\n",
      " [  146   630 20010  2253   767     3   467]\n",
      " [  155   412  2072 14777   634     3   345]\n",
      " [  157   142   965   994  6948     5   180]\n",
      " [  295    93    80    74    29   894    13]\n",
      " [  159    40   531   259   529     1 10665]]\n"
     ]
    }
   ],
   "source": [
    "\n",
    "\n",
    "nb, sgd, logreg, rfc,xgboost=train_evalute_model(X_train_Comments,X_test_Comments, X_train_classic, X_test_classic, y_train_classic, y_test_classic )"
   ]
  },
  {
   "cell_type": "markdown",
   "metadata": {},
   "source": [
    "# TASK3. USE DEEP LEARNING TO SEE IF IT IMPROVES YOUR RESULTS"
   ]
  },
  {
   "cell_type": "markdown",
   "metadata": {},
   "source": [
    "# #Pre_training by GLOVE"
   ]
  },
  {
   "cell_type": "code",
   "execution_count": 80,
   "metadata": {},
   "outputs": [],
   "source": [
    "MAX_SEQUENCE_LENGTH = 250\n",
    "MAX_VOCAB_SIZE = 30000\n",
    "EMBEDDING_DIM = 300"
   ]
  },
  {
   "cell_type": "code",
   "execution_count": 73,
   "metadata": {},
   "outputs": [
    {
     "name": "stdout",
     "output_type": "stream",
     "text": [
      "Found 1917494 word vectors.\n"
     ]
    }
   ],
   "source": [
    "\n",
    "word2vec = {}\n",
    "f = open('/Users/Azi/Citibank/glove.42B.300d.txt')\n",
    "for line in f:\n",
    "    values = line.split()\n",
    "    word = values[0]\n",
    "    coefs = np.asarray(values[1:], dtype='float32')\n",
    "    word2vec[word] = coefs\n",
    "f.close()\n",
    "print('Found %s word vectors.' % len(word2vec))\n"
   ]
  },
  {
   "cell_type": "code",
   "execution_count": 83,
   "metadata": {},
   "outputs": [
    {
     "name": "stdout",
     "output_type": "stream",
     "text": [
      "Filling pre-trained embeddings...\n"
     ]
    }
   ],
   "source": [
    "print('Filling pre-trained embeddings...')\n",
    "num_words = max(MAX_VOCAB_SIZE, len(word_index) + 1)\n",
    "embedding_matrix = np.zeros((num_words, EMBEDDING_DIM))\n",
    "for word, i in word_index.items():\n",
    "    if i < MAX_VOCAB_SIZE:\n",
    "        embedding_vector = word2vec.get(word)\n",
    "    if embedding_vector is not None:\n",
    "      # words not found in embedding index will be all zeros.\n",
    "      embedding_matrix[i] = embedding_vector"
   ]
  },
  {
   "cell_type": "markdown",
   "metadata": {},
   "source": [
    "# Tokenizer strips punctuation out."
   ]
  },
  {
   "cell_type": "code",
   "execution_count": 2,
   "metadata": {},
   "outputs": [],
   "source": [
    "word_index = tokenizer.word_index     \n"
   ]
  },
  {
   "cell_type": "code",
   "execution_count": 85,
   "metadata": {},
   "outputs": [],
   "source": [
    "embedding_layer = Embedding(\n",
    "  num_words,\n",
    "  EMBEDDING_DIM,\n",
    "  weights=[embedding_matrix],\n",
    "  input_length=MAX_SEQUENCE_LENGTH,\n",
    "  trainable=False)\n",
    "\n"
   ]
  },
  {
   "cell_type": "code",
   "execution_count": 116,
   "metadata": {},
   "outputs": [],
   "source": [
    "data[\"label\"]=data[\"product_group\"].astype('category').cat.codes"
   ]
  },
  {
   "cell_type": "markdown",
   "metadata": {},
   "source": [
    "### Deep Learning with Keras and tensorflow"
   ]
  },
  {
   "cell_type": "code",
   "execution_count": 118,
   "metadata": {},
   "outputs": [],
   "source": [
    "X = data.clean_text\n",
    "data[\"label\"]=data[\"product_group\"].astype('category').cat.codes\n",
    "ylabel=data[\"label\"]\n",
    "X_train_nn, X_test_nn, train_label, test_label = train_test_split(X, ylabel, test_size=0.3, random_state = 42)"
   ]
  },
  {
   "cell_type": "markdown",
   "metadata": {},
   "source": [
    "## tokenizer.fit_on_texts(X_train_nn)\n",
    "\n",
    "##  Create  adictionary with the key being the word and the value being the token for that word.\n"
   ]
  },
  {
   "cell_type": "markdown",
   "metadata": {},
   "source": [
    "## tokenizer.texts_to_sequences \n",
    "## The tokenizer to get text to sequences \n",
    "\n",
    "## pad_sequences  \n",
    "## We need to have some level of uniformity of size. (Padding )\n",
    "## After padding, list of sentences has been padded out into a matrix "
   ]
  },
  {
   "cell_type": "markdown",
   "metadata": {},
   "source": [
    "## tokenizer=Tokenizer(number_words=100, oov_tooken= <OOV>)\n",
    "    \n",
    "    \n",
    "## by this script oov we are going to create a new token that I am going to use words that are not recognized.    "
   ]
  },
  {
   "cell_type": "code",
   "execution_count": 119,
   "metadata": {},
   "outputs": [],
   "source": [
    "tokenizer.fit_on_texts(X_train_nn)\n",
    "sequences_train = tokenizer.texts_to_sequences(X_train_nn)\n",
    "tokenizer.fit_on_texts(X_test_nn)\n",
    "sequences_test = tokenizer.texts_to_sequences(X_test_nn)\n"
   ]
  },
  {
   "cell_type": "markdown",
   "metadata": {},
   "source": [
    "## X_train = pad_sequences(sequences_train,maxlen=MAX_SEQUENCE_LENGTH, padding='post', truncating='post')"
   ]
  },
  {
   "cell_type": "code",
   "execution_count": 120,
   "metadata": {},
   "outputs": [
    {
     "name": "stdout",
     "output_type": "stream",
     "text": [
      "Shape of X train and X validation tensor: (187866, 250) (80514, 250)\n",
      "Shape of label train and validation tensor: (187866, 7) (80514, 7)\n"
     ]
    }
   ],
   "source": [
    "X_train = pad_sequences(sequences_train,maxlen=MAX_SEQUENCE_LENGTH)\n",
    "X_newVal = pad_sequences(sequences_test,maxlen=MAX_SEQUENCE_LENGTH)\n",
    "y_train = to_categorical(np.asarray(train_label))\n",
    "y_val = to_categorical(np.asarray(test_label))\n",
    "print('Shape of X train and X validation tensor:', X_train.shape,X_newVal.shape)\n",
    "print('Shape of label train and validation tensor:', y_train.shape, y_val.shape)"
   ]
  },
  {
   "cell_type": "code",
   "execution_count": 99,
   "metadata": {},
   "outputs": [],
   "source": [
    "embedding_layer = Embedding(\n",
    "  num_words,\n",
    "  EMBEDDING_DIM,\n",
    "  weights=[embedding_matrix],\n",
    "  input_length=MAX_SEQUENCE_LENGTH,\n",
    "  trainable=False)"
   ]
  },
  {
   "cell_type": "markdown",
   "metadata": {},
   "source": [
    "## Develop LSTM by Keras "
   ]
  },
  {
   "cell_type": "code",
   "execution_count": 122,
   "metadata": {},
   "outputs": [
    {
     "name": "stdout",
     "output_type": "stream",
     "text": [
      "Epoch 1/3\n",
      "187866/187866 [==============================] - 6162s - loss: 0.9142 - acc: 0.6786  \n",
      "Epoch 2/3\n",
      "187866/187866 [==============================] - 8062s - loss: 0.6005 - acc: 0.7963  \n",
      "Epoch 3/3\n",
      "187866/187866 [==============================] - 5350s - loss: 0.5398 - acc: 0.8163  \n"
     ]
    },
    {
     "data": {
      "text/plain": [
       "<keras.callbacks.History at 0x174eed978>"
      ]
     },
     "execution_count": 122,
     "metadata": {},
     "output_type": "execute_result"
    }
   ],
   "source": [
    "model1 = Sequential()\n",
    "model1.add(embedding_layer)\n",
    "model1.add(Dense(30,  activation='relu'))\n",
    "model1.add(LSTM(100))\n",
    "model1.add(Dense(7, activation='softmax'))\n",
    "model1.compile(loss='categorical_crossentropy', optimizer='adam', metrics=['accuracy'])\n",
    "model1.fit(X_train, y_train , epochs=3)"
   ]
  },
  {
   "cell_type": "code",
   "execution_count": 143,
   "metadata": {},
   "outputs": [
    {
     "name": "stdout",
     "output_type": "stream",
     "text": [
      "_________________________________________________________________\n",
      "Layer (type)                 Output Shape              Param #   \n",
      "=================================================================\n",
      "embedding_2 (Embedding)      (None, 250, 300)          34576800  \n",
      "_________________________________________________________________\n",
      "dense_13 (Dense)             (None, 250, 30)           9030      \n",
      "_________________________________________________________________\n",
      "lstm_6 (LSTM)                (None, 100)               52400     \n",
      "_________________________________________________________________\n",
      "dense_14 (Dense)             (None, 7)                 707       \n",
      "=================================================================\n",
      "Total params: 34,638,937.0\n",
      "Trainable params: 62,137.0\n",
      "Non-trainable params: 34,576,800.0\n",
      "_________________________________________________________________\n"
     ]
    }
   ],
   "source": [
    "model1.summary()"
   ]
  },
  {
   "cell_type": "code",
   "execution_count": 257,
   "metadata": {},
   "outputs": [
    {
     "name": "stdout",
     "output_type": "stream",
     "text": [
      "Saved model to disk\n"
     ]
    }
   ],
   "source": [
    "model_json = model1.to_json()\n",
    "with open(\"model.json\", \"w\") as json_file:\n",
    "    json_file.write(model_json)\n",
    "# serialize weights to HDF5\n",
    "model1.save_weights(\"LSTM_model.h5\")\n",
    "print(\"Saved model to disk\")"
   ]
  },
  {
   "cell_type": "code",
   "execution_count": 240,
   "metadata": {},
   "outputs": [
    {
     "name": "stdout",
     "output_type": "stream",
     "text": [
      "80514/80514 [==============================] - 391s   \n"
     ]
    }
   ],
   "source": [
    "predict_pretrin_google = model1.predict(X_newVal,verbose=1)\n"
   ]
  },
  {
   "cell_type": "code",
   "execution_count": 225,
   "metadata": {},
   "outputs": [
    {
     "data": {
      "text/plain": [
       "<pandas.core.groupby.groupby.DataFrameGroupBy object at 0x13650d9b0>"
      ]
     },
     "execution_count": 225,
     "metadata": {},
     "output_type": "execute_result"
    }
   ],
   "source": [
    "tag_deeplearning=['0', '1', '2', '3', '4', '5', '6']\n",
    "data.groupby(['product_group','label'])"
   ]
  },
  {
   "cell_type": "code",
   "execution_count": 171,
   "metadata": {},
   "outputs": [],
   "source": [
    "predict_pretrin_google.shape \n",
    "model1_glove= predict_pretrin_google.argmax(axis=1)\n",
    "\n",
    "actul_value= y_val.argmax(axis=1)"
   ]
  },
  {
   "cell_type": "code",
   "execution_count": 194,
   "metadata": {},
   "outputs": [
    {
     "name": "stdout",
     "output_type": "stream",
     "text": [
      "LSTM along with pretraining by GLOVE\n",
      "accuracy 0.7628735375214248\n",
      "             precision    recall  f1-score   support\n",
      "\n",
      "          0       0.66      0.74      0.70      5898\n",
      "          1       0.73      0.63      0.68      8889\n",
      "          2       0.79      0.83      0.81     24276\n",
      "          3       0.76      0.77      0.76     18398\n",
      "          4       0.73      0.66      0.69      9391\n",
      "          5       0.70      0.27      0.39      1478\n",
      "          6       0.82      0.88      0.85     12184\n",
      "\n",
      "avg / total       0.76      0.76      0.76     80514\n",
      "\n",
      "[[ 4347   675   243   219   119    72   223]\n",
      " [  803  5583  1292   756   197    48   210]\n",
      " [  182   571 20142  2175   699    11   496]\n",
      " [  180   360  2517 14088   773    20   460]\n",
      " [  196   208   941   955  6155    14   922]\n",
      " [  688   130    62    70    65   398    65]\n",
      " [  187    79   391   339   470     9 10709]]\n"
     ]
    }
   ],
   "source": [
    "print ('LSTM along with pretraining by GLOVE')\n",
    "print('accuracy %s' % accuracy_score( actul_value,model1_glove))\n",
    "print(classification_report(actul_value,model1_glove,target_names=tag_deeplearning))\n",
    "print (confusion_matrix( actul_value,model1_glove, labels=[0, 1, 2, 3, 4, 5, 6]))"
   ]
  },
  {
   "cell_type": "markdown",
   "metadata": {},
   "source": [
    "## Load Word2Vec Welsfarho property by Gensim"
   ]
  },
  {
   "cell_type": "markdown",
   "metadata": {},
   "source": [
    "### Word2vec is generated by genism with another python script"
   ]
  },
  {
   "cell_type": "code",
   "execution_count": 130,
   "metadata": {},
   "outputs": [],
   "source": [
    "model_word2vec_welsfargo = gensim.models.Word2Vec.load(\"model_doc\")"
   ]
  },
  {
   "cell_type": "code",
   "execution_count": 189,
   "metadata": {},
   "outputs": [
    {
     "name": "stdout",
     "output_type": "stream",
     "text": [
      "47099\n"
     ]
    }
   ],
   "source": [
    "\n",
    "print ( len(model_word2vec_welsfargo.wv.vocab))\n",
    "embedding_matrix3 = np.zeros((len(model_word2vec_welsfargo.wv.vocab), 50))\n",
    "for i in range(len(model_word2vec_welsfargo.wv.vocab)):\n",
    "\n",
    "    embedding_vector = model_word2vec_welsfargo.wv[model_word2vec_welsfargo.wv.index2word[i]]\n",
    "    if embedding_vector is not None:\n",
    "        embedding_matrix3[i] = embedding_vector\n",
    "        \n",
    "        \n",
    "\n",
    "embedding_layer3 = Embedding(\n",
    "  num_words,\n",
    "  EMBEDDING_DIM,\n",
    "  weights=[embedding_matrix3],\n",
    "  input_length=MAX_SEQUENCE_LENGTH,\n",
    "  trainable=False) "
   ]
  },
  {
   "cell_type": "code",
   "execution_count": 239,
   "metadata": {},
   "outputs": [
    {
     "name": "stdout",
     "output_type": "stream",
     "text": [
      "_________________________________________________________________\n",
      "Layer (type)                 Output Shape              Param #   \n",
      "=================================================================\n",
      "embedding_3 (Embedding)      (None, 250, 300)          34576800  \n",
      "_________________________________________________________________\n",
      "conv1d_4 (Conv1D)            (None, 250, 100)          120100    \n",
      "_________________________________________________________________\n",
      "dense_21 (Dense)             (None, 250, 20)           2020      \n",
      "_________________________________________________________________\n",
      "dense_22 (Dense)             (None, 250, 50)           1050      \n",
      "_________________________________________________________________\n",
      "max_pooling1d_4 (MaxPooling1 (None, 6, 50)             0         \n",
      "_________________________________________________________________\n",
      "flatten_4 (Flatten)          (None, 300)               0         \n",
      "_________________________________________________________________\n",
      "dense_23 (Dense)             (None, 7)                 2107      \n",
      "=================================================================\n",
      "Total params: 34,702,077.0\n",
      "Trainable params: 125,277.0\n",
      "Non-trainable params: 34,576,800.0\n",
      "_________________________________________________________________\n"
     ]
    }
   ],
   "source": [
    "model2 = Sequential()\n",
    "model2.add(embedding_layer3 )\n",
    "model2.add(Conv1D(filters=100, kernel_size=4, padding='same', activation='relu'))\n",
    "model2.add(Dense(20))\n",
    "model2.add(Dense(50))\n",
    "model2.add(MaxPooling1D(pool_size=40))\n",
    "model2.add(Flatten(input_shape=(7, 2)))\n",
    "model2.add(Dense(7, activation='sigmoid'))\n",
    "model2.compile(loss='categorical_crossentropy', optimizer='adam', metrics=['accuracy'])\n",
    "model2.summary()"
   ]
  },
  {
   "cell_type": "markdown",
   "metadata": {},
   "source": []
  },
  {
   "cell_type": "code",
   "execution_count": 140,
   "metadata": {},
   "outputs": [
    {
     "name": "stdout",
     "output_type": "stream",
     "text": [
      "Epoch 1/3\n",
      "187866/187866 [==============================] - 497s - loss: 0.7841 - acc: 0.7321   \n",
      "Epoch 2/3\n",
      "187866/187866 [==============================] - 495s - loss: 0.6024 - acc: 0.7989   \n",
      "Epoch 3/3\n",
      "187866/187866 [==============================] - 485s - loss: 0.5540 - acc: 0.8126   \n"
     ]
    },
    {
     "data": {
      "text/plain": [
       "<keras.callbacks.History at 0x150499e48>"
      ]
     },
     "execution_count": 140,
     "metadata": {},
     "output_type": "execute_result"
    }
   ],
   "source": [
    "model2.fit(X_train, y_train , epochs=3)"
   ]
  },
  {
   "cell_type": "code",
   "execution_count": 258,
   "metadata": {},
   "outputs": [
    {
     "name": "stdout",
     "output_type": "stream",
     "text": [
      "Saved model to disk\n"
     ]
    }
   ],
   "source": [
    "model_json1 = model2.to_json()\n",
    "with open(\"model.json\", \"w\") as json_file:\n",
    "    json_file.write(model_json1)\n",
    "# serialize weights to HDF5\n",
    "model2.save_weights(\"model2word2vec.h5\")\n",
    "print(\"Saved model to disk\")"
   ]
  },
  {
   "cell_type": "code",
   "execution_count": 190,
   "metadata": {},
   "outputs": [
    {
     "name": "stdout",
     "output_type": "stream",
     "text": [
      "80480/80514 [============================>.] - ETA: 0s"
     ]
    }
   ],
   "source": [
    "predict_pretrin_word2vec = model2.predict(X_newVal,verbose=1)"
   ]
  },
  {
   "cell_type": "code",
   "execution_count": 193,
   "metadata": {},
   "outputs": [
    {
     "name": "stdout",
     "output_type": "stream",
     "text": [
      "LSTM along with Word2vec\n",
      "accuracy 0.7292147949424945\n",
      "             precision    recall  f1-score   support\n",
      "\n",
      "          0       0.69      0.60      0.64      5898\n",
      "          1       0.71      0.60      0.65      8889\n",
      "          2       0.74      0.82      0.78     24276\n",
      "          3       0.68      0.76      0.72     18398\n",
      "          4       0.74      0.63      0.68      9391\n",
      "          5       0.63      0.18      0.28      1478\n",
      "          6       0.82      0.81      0.81     12184\n",
      "\n",
      "avg / total       0.73      0.73      0.72     80514\n",
      "\n",
      "[[ 3554   730   600   541   101    74   298]\n",
      " [  476  5347  1667  1015   150    36   198]\n",
      " [  121   526 19856  2518   563     7   685]\n",
      " [  102   398  2871 13998   565    21   443]\n",
      " [  117   253  1171  1505  5881    10   454]\n",
      " [  522   173   181   252    35   265    50]\n",
      " [  241   144   597   757   625     9  9811]]\n"
     ]
    }
   ],
   "source": [
    "model2_wv= predict_pretrin_word2vec.argmax(axis=1)\n",
    "print ('LSTM along with Word2vec')\n",
    "print('accuracy %s' % accuracy_score( actul_value,model2_wv))\n",
    "print(classification_report(actul_value,model2_wv,target_names=tag_deeplearning))\n",
    "print (confusion_matrix( actul_value,model2_wv, labels=[0, 1, 2, 3, 4, 5, 6]))"
   ]
  },
  {
   "cell_type": "code",
   "execution_count": null,
   "metadata": {},
   "outputs": [],
   "source": []
  }
 ],
 "metadata": {
  "kernelspec": {
   "display_name": "Python 3",
   "language": "python",
   "name": "python3"
  },
  "language_info": {
   "codemirror_mode": {
    "name": "ipython",
    "version": 3
   },
   "file_extension": ".py",
   "mimetype": "text/x-python",
   "name": "python",
   "nbconvert_exporter": "python",
   "pygments_lexer": "ipython3",
   "version": "3.7.0"
  }
 },
 "nbformat": 4,
 "nbformat_minor": 2
}
